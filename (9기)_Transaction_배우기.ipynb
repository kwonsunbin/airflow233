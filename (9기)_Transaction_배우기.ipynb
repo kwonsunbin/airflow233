{
  "nbformat": 4,
  "nbformat_minor": 0,
  "metadata": {
    "colab": {
      "name": "(9기) Transaction 배우기",
      "provenance": [],
      "collapsed_sections": [],
      "include_colab_link": true
    },
    "kernelspec": {
      "name": "python3",
      "display_name": "Python 3"
    }
  },
  "cells": [
    {
      "cell_type": "markdown",
      "metadata": {
        "id": "view-in-github",
        "colab_type": "text"
      },
      "source": [
        "<a href=\"https://colab.research.google.com/github/kwonsunbin/airflow233/blob/main/(9%EA%B8%B0)_Transaction_%EB%B0%B0%EC%9A%B0%EA%B8%B0.ipynb\" target=\"_parent\"><img src=\"https://colab.research.google.com/assets/colab-badge.svg\" alt=\"Open In Colab\"/></a>"
      ]
    },
    {
      "cell_type": "markdown",
      "metadata": {
        "id": "bbEJ5gTWcuFy"
      },
      "source": [
        "## 트랜잭션이란? 동시에 Atomic하게 실행되어야 하는 SQL들을 묶어서 하나의 작업처럼 처리하는 방법"
      ]
    },
    {
      "cell_type": "code",
      "metadata": {
        "id": "z565vC4I9V0d"
      },
      "source": [
        "import psycopg2\n",
        "\n",
        "# Redshift connection 함수\n",
        "# - user와 password를 본인 것으로 수정!\n",
        "def get_Redshift_connection(autocommit):\n",
        "    host = \"learnde.cduaw970ssvt.ap-northeast-2.redshift.amazonaws.com\"\n",
        "    user = \"sunbin1696\"\n",
        "    password = \"Sunbin1696!1\"\n",
        "    port = 5439\n",
        "    dbname = \"dev\"\n",
        "    conn = psycopg2.connect(f\"dbname={dbname} user={user} host={host} password={password} port={port}\")\n",
        "    conn.set_session(autocommit=autocommit)\n",
        "    return conn"
      ],
      "execution_count": 1,
      "outputs": []
    },
    {
      "cell_type": "markdown",
      "metadata": {
        "id": "XVtoIXUGWcWR"
      },
      "source": [
        "# INSERT SQL을 autocommit=False로 실행"
      ]
    },
    {
      "cell_type": "code",
      "metadata": {
        "id": "gjDwY95epWDi"
      },
      "source": [
        "conn = get_Redshift_connection(False)\n",
        "cur = conn.cursor()"
      ],
      "execution_count": 7,
      "outputs": []
    },
    {
      "cell_type": "code",
      "metadata": {
        "id": "yKat8sQEaG0c",
        "outputId": "d2faaa44-2a02-48af-e0f5-3a203a5bbbd5",
        "colab": {
          "base_uri": "https://localhost:8080/"
        }
      },
      "source": [
        "cur.execute(\"SELECT * FROM sunbin1696.name_gender LIMIT 10;\")\n",
        "res = cur.fetchall()\n",
        "for r in res:\n",
        "  print(r)"
      ],
      "execution_count": 8,
      "outputs": [
        {
          "output_type": "stream",
          "name": "stdout",
          "text": [
            "('Adaleigh', 'F')\n",
            "('Amryn', 'Unisex')\n",
            "('Apurva', 'Unisex')\n",
            "('Aryion', 'M')\n",
            "('Alixia', 'F')\n",
            "('Alyssarose', 'F')\n",
            "('Arvell', 'M')\n",
            "('Aibel', 'M')\n",
            "('Atiyyah', 'F')\n",
            "('Adlie', 'F')\n"
          ]
        }
      ]
    },
    {
      "cell_type": "code",
      "metadata": {
        "id": "qNXE-TtuSozb"
      },
      "source": [
        "cur.execute(\"DELETE FROM sunbin1696.name_gender;\")"
      ],
      "execution_count": 9,
      "outputs": []
    },
    {
      "cell_type": "code",
      "metadata": {
        "id": "Uhfuq2JQPyz9"
      },
      "source": [
        "cur.execute(\"INSERT INTO sunbin1696.name_gender VALUES ('Keeyong', 'Male');\")"
      ],
      "execution_count": 10,
      "outputs": []
    },
    {
      "cell_type": "code",
      "metadata": {
        "id": "HrsIMgvMP9_n",
        "colab": {
          "base_uri": "https://localhost:8080/"
        },
        "outputId": "469f9dd2-7865-4aad-8ded-3225829b1c3d"
      },
      "source": [
        "cur.execute(\"SELECT * FROM sunbin1696.name_gender LIMIT 10;\")\n",
        "res = cur.fetchall()\n",
        "for r in res:\n",
        "  print(r)"
      ],
      "execution_count": 11,
      "outputs": [
        {
          "output_type": "stream",
          "name": "stdout",
          "text": [
            "('Keeyong', 'Male')\n"
          ]
        }
      ]
    },
    {
      "cell_type": "code",
      "metadata": {
        "id": "DMDGfg5qPX7s"
      },
      "source": [
        "cur.execute(\"COMMIT;\")   # conn.commit()와 동일. cur.execute(\"ROLLBACK;\")와 conn.rollback()도 동일"
      ],
      "execution_count": 12,
      "outputs": []
    },
    {
      "cell_type": "code",
      "metadata": {
        "id": "NFsWbJ-G-hq6"
      },
      "source": [
        "conn.close()"
      ],
      "execution_count": 13,
      "outputs": []
    },
    {
      "cell_type": "markdown",
      "metadata": {
        "id": "NBto_jgD-Xos"
      },
      "source": [
        "# INSERT SQL을 autocommit=False로 실행하고 try/except로 컨트롤하기"
      ]
    },
    {
      "cell_type": "code",
      "metadata": {
        "id": "d9g3Tltg-e2a"
      },
      "source": [
        "conn = get_Redshift_connection(False)\n",
        "cur = conn.cursor()"
      ],
      "execution_count": 14,
      "outputs": []
    },
    {
      "cell_type": "code",
      "metadata": {
        "id": "gvw0-gOn-nt_",
        "outputId": "63823278-bd32-4537-c858-e68c1e7bd99b",
        "colab": {
          "base_uri": "https://localhost:8080/"
        }
      },
      "source": [
        "try:\n",
        "  cur.execute(\"DELETE FROM keeyong.name_gender;\") \n",
        "  cur.execute(\"INSERT INTO keeyong.name_gender VALUES ('Claire', 'Female');\")\n",
        "  conn.commit()  # cur.execute(\"COMMIT;\")와 동일\n",
        "except (Exception, psycopg2.DatabaseError) as error:\n",
        "  print(error)\n",
        "  conn.rollback()  # cur.execute(\"ROLLBACK;\")와 동일\n",
        "finally :\n",
        "  conn.close()"
      ],
      "execution_count": 15,
      "outputs": [
        {
          "output_type": "stream",
          "name": "stdout",
          "text": [
            "permission denied for schema keeyong\n",
            "\n"
          ]
        }
      ]
    },
    {
      "cell_type": "markdown",
      "metadata": {
        "id": "K036sUi4Zo97"
      },
      "source": [
        "\n",
        "\n",
        "```\n",
        "# 코드로 형식 지정됨\n",
        "```\n",
        "\n",
        "# INSERT SQL을 autocommit=True로 실행하고 try/except로 컨트롤하기"
      ]
    },
    {
      "cell_type": "code",
      "metadata": {
        "id": "fb9K_eY7Zo98"
      },
      "source": [
        "conn = get_Redshift_connection(True)\n",
        "cur = conn.cursor()"
      ],
      "execution_count": 16,
      "outputs": []
    },
    {
      "cell_type": "code",
      "metadata": {
        "id": "77xwFq1sZo99",
        "outputId": "8d7e1421-645b-4c03-e684-040b7416f99f",
        "colab": {
          "base_uri": "https://localhost:8080/"
        }
      },
      "source": [
        "try:\n",
        "  cur.execute(\"BEGIN;\")\n",
        "  cur.execute(\"DELETE FROM keeyong.name_gender;\") \n",
        "  cur.execute(\"INSERT INTO keeyong.name_gender VALUES ('Claire', 'Female');\")\n",
        "  cur.execute(\"END;\")\n",
        "except (Exception, psycopg2.DatabaseError) as error:\n",
        "  print(error)\n",
        "  cur.execute(\"ROLLBACK;\")\n",
        "finally :\n",
        "  conn.close()"
      ],
      "execution_count": 17,
      "outputs": [
        {
          "output_type": "stream",
          "name": "stdout",
          "text": [
            "permission denied for schema keeyong\n",
            "\n"
          ]
        }
      ]
    },
    {
      "cell_type": "markdown",
      "metadata": {
        "id": "HUuosOlqCh5s"
      },
      "source": [
        "# INSERT SQL을 autocommit=True로 실행하고 SQL로 컨트롤하기"
      ]
    },
    {
      "cell_type": "code",
      "metadata": {
        "id": "3_iYs4L8CbxG"
      },
      "source": [
        "conn = get_Redshift_connection(True)\n",
        "cur = conn.cursor()"
      ],
      "execution_count": null,
      "outputs": []
    },
    {
      "cell_type": "code",
      "metadata": {
        "id": "6KWtJNoncO0D",
        "colab": {
          "base_uri": "https://localhost:8080/"
        },
        "outputId": "7f4f1bd2-b2be-4506-a85d-ad841351187b"
      },
      "source": [
        "cur.execute(\"SELECT * FROM keeyong.name_gender;\")\n",
        "res = cur.fetchall()\n",
        "for r in res:\n",
        "  print(r)"
      ],
      "execution_count": null,
      "outputs": [
        {
          "output_type": "stream",
          "name": "stdout",
          "text": [
            "('Benjamin', 'Male')\n"
          ]
        }
      ]
    },
    {
      "cell_type": "code",
      "metadata": {
        "id": "ofkQouLMCl2s"
      },
      "source": [
        "cur.execute(\"BEGIN;\")\n",
        "cur.execute(\"DELETE FROM keeyong.name_gender;\")\n",
        "cur.execute(\"INSERT INTO keeyong.name_gender VALUES ('Benjamin', 'Male');\")\n",
        "cur.execute(\"END;\")"
      ],
      "execution_count": null,
      "outputs": []
    },
    {
      "cell_type": "markdown",
      "metadata": {
        "id": "5nfCUmjoDAhl"
      },
      "source": [
        "# 잘못된 SQL을 중간에 실행해보기"
      ]
    },
    {
      "cell_type": "code",
      "metadata": {
        "id": "OE3KCwUnC4-g",
        "colab": {
          "base_uri": "https://localhost:8080/",
          "height": 218
        },
        "outputId": "8ef5837a-3670-4b17-b47a-a5a8dbb484fa"
      },
      "source": [
        "cur.execute(\"BEGIN;\")\n",
        "cur.execute(\"DELETE FROM keeyong.name_gender;\")\n",
        "cur.execute(\"INSERT INTO keeyong.name_gender3 VALUES ('Andrew', 'Male');\")\n",
        "cur.execute(\"END;\")"
      ],
      "execution_count": null,
      "outputs": [
        {
          "output_type": "error",
          "ename": "UndefinedTable",
          "evalue": "ignored",
          "traceback": [
            "\u001b[0;31m---------------------------------------------------------------------------\u001b[0m",
            "\u001b[0;31mUndefinedTable\u001b[0m                            Traceback (most recent call last)",
            "\u001b[0;32m<ipython-input-29-4f137095efa3>\u001b[0m in \u001b[0;36m<module>\u001b[0;34m\u001b[0m\n\u001b[1;32m      1\u001b[0m \u001b[0mcur\u001b[0m\u001b[0;34m.\u001b[0m\u001b[0mexecute\u001b[0m\u001b[0;34m(\u001b[0m\u001b[0;34m\"BEGIN;\"\u001b[0m\u001b[0;34m)\u001b[0m\u001b[0;34m\u001b[0m\u001b[0;34m\u001b[0m\u001b[0m\n\u001b[1;32m      2\u001b[0m \u001b[0mcur\u001b[0m\u001b[0;34m.\u001b[0m\u001b[0mexecute\u001b[0m\u001b[0;34m(\u001b[0m\u001b[0;34m\"DELETE FROM keeyong.name_gender;\"\u001b[0m\u001b[0;34m)\u001b[0m\u001b[0;34m\u001b[0m\u001b[0;34m\u001b[0m\u001b[0m\n\u001b[0;32m----> 3\u001b[0;31m \u001b[0mcur\u001b[0m\u001b[0;34m.\u001b[0m\u001b[0mexecute\u001b[0m\u001b[0;34m(\u001b[0m\u001b[0;34m\"INSERT INTO keeyong.name_gender3 VALUES ('Andrew', 'Male');\"\u001b[0m\u001b[0;34m)\u001b[0m\u001b[0;34m\u001b[0m\u001b[0;34m\u001b[0m\u001b[0m\n\u001b[0m\u001b[1;32m      4\u001b[0m \u001b[0mcur\u001b[0m\u001b[0;34m.\u001b[0m\u001b[0mexecute\u001b[0m\u001b[0;34m(\u001b[0m\u001b[0;34m\"END;\"\u001b[0m\u001b[0;34m)\u001b[0m\u001b[0;34m\u001b[0m\u001b[0;34m\u001b[0m\u001b[0m\n",
            "\u001b[0;31mUndefinedTable\u001b[0m: relation \"keeyong.name_gender3\" does not exist\n"
          ]
        }
      ]
    }
  ]
}